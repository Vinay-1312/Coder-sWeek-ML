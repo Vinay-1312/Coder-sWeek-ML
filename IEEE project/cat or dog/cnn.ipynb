{
 "cells": [
  {
   "cell_type": "code",
   "execution_count": 1,
   "metadata": {
    "colab": {
     "base_uri": "https://localhost:8080/",
     "height": 34
    },
    "colab_type": "code",
    "id": "RS137bKw16bO",
    "outputId": "21c50dab-0bb8-4379-92d9-7fd68856aed4"
   },
   "outputs": [
    {
     "name": "stderr",
     "output_type": "stream",
     "text": [
      "Using TensorFlow backend.\n"
     ]
    }
   ],
   "source": [
    "import pandas as pd\n",
    "import tensorflow as tf \n",
    "from keras.preprocessing.image import ImageDataGenerator"
   ]
  },
  {
   "cell_type": "code",
   "execution_count": 0,
   "metadata": {
    "colab": {},
    "colab_type": "code",
    "id": "_io2tC4ekTqw"
   },
   "outputs": [],
   "source": []
  },
  {
   "cell_type": "markdown",
   "metadata": {
    "colab_type": "text",
    "id": "eZYdknVY7C1a"
   },
   "source": [
    "# New Section"
   ]
  },
  {
   "cell_type": "code",
   "execution_count": 2,
   "metadata": {
    "colab": {},
    "colab_type": "code",
    "id": "ijb7aXIe-lqj"
   },
   "outputs": [
    {
     "name": "stdout",
     "output_type": "stream",
     "text": [
      "Found 8000 images belonging to 2 classes.\n",
      "Found 2000 images belonging to 2 classes.\n"
     ]
    }
   ],
   "source": [
    "\n",
    "#preprocecing image\n",
    "train_datagen = ImageDataGenerator(\n",
    "        rescale=1./255,\n",
    "        shear_range=0.2,\n",
    "        zoom_range=0.2,\n",
    "        horizontal_flip=True)\n",
    "train_set = train_datagen.flow_from_directory(\n",
    "        'dataset/training_set',\n",
    "        target_size=(64, 64), \n",
    "        batch_size=32, \n",
    "        class_mode='binary')\n",
    "test_datagen=ImageDataGenerator(rescale=1./255)\n",
    "test_set=test_datagen.flow_from_directory(\"dataset/test_set\",target_size=(64,64),batch_size=32,class_mode=\"binary\")\n"
   ]
  },
  {
   "cell_type": "markdown",
   "metadata": {
    "colab_type": "text",
    "id": "JT8kNJoqJy3X"
   },
   "source": [
    "Build CNN"
   ]
  },
  {
   "cell_type": "code",
   "execution_count": 3,
   "metadata": {
    "colab": {},
    "colab_type": "code",
    "id": "J9eNZuT7J0lq"
   },
   "outputs": [],
   "source": [
    "cnn=tf.keras.models.Sequential()\n"
   ]
  },
  {
   "cell_type": "markdown",
   "metadata": {
    "colab_type": "text",
    "id": "LC9NjJWFKJ5K"
   },
   "source": [
    "convolution"
   ]
  },
  {
   "cell_type": "code",
   "execution_count": 4,
   "metadata": {
    "colab": {},
    "colab_type": "code",
    "id": "_CK1L2eGKLx-"
   },
   "outputs": [],
   "source": [
    "cnn.add(tf.keras.layers.Conv2D(filters=32,kernel_size=3,activation=\"relu\",input_shape=[64,64,3]))#input_shape=[64,64,3] because we reduced ouut images to 64 64 and we have coloured images\n"
   ]
  },
  {
   "cell_type": "markdown",
   "metadata": {
    "colab_type": "text",
    "id": "aJz6wgBLNtYV"
   },
   "source": [
    "polling"
   ]
  },
  {
   "cell_type": "code",
   "execution_count": 5,
   "metadata": {
    "colab": {},
    "colab_type": "code",
    "id": "98Jvd__6NvP_"
   },
   "outputs": [],
   "source": [
    "cnn.add(tf.keras.layers.MaxPool2D(pool_size=2,strides=2))"
   ]
  },
  {
   "cell_type": "markdown",
   "metadata": {
    "colab_type": "text",
    "id": "GzJiDdlxOuwO"
   },
   "source": [
    "second convolutional layer"
   ]
  },
  {
   "cell_type": "code",
   "execution_count": 6,
   "metadata": {
    "colab": {},
    "colab_type": "code",
    "id": "CuE2rQyqOwPH"
   },
   "outputs": [],
   "source": [
    "cnn.add(tf.keras.layers.Conv2D(filters=32,kernel_size=3,activation=\"relu\"))\n",
    "cnn.add(tf.keras.layers.MaxPool2D(pool_size=2,strides=2))"
   ]
  },
  {
   "cell_type": "markdown",
   "metadata": {
    "colab_type": "text",
    "id": "51KSwkJjPKFr"
   },
   "source": [
    "Flattening"
   ]
  },
  {
   "cell_type": "code",
   "execution_count": 7,
   "metadata": {
    "colab": {},
    "colab_type": "code",
    "id": "AjO3hs8YPLH3"
   },
   "outputs": [],
   "source": [
    "cnn.add(tf.keras.layers.Flatten())"
   ]
  },
  {
   "cell_type": "markdown",
   "metadata": {
    "colab_type": "text",
    "id": "mnAzxBr0Pghx"
   },
   "source": [
    "full connection"
   ]
  },
  {
   "cell_type": "code",
   "execution_count": 8,
   "metadata": {
    "colab": {},
    "colab_type": "code",
    "id": "T9PpIU9dPh0Z"
   },
   "outputs": [],
   "source": [
    "cnn.add(tf.keras.layers.Dense(units=128,activation=\"relu\"))\n",
    "\n",
    "cnn.add(tf.keras.layers.Dense(units=1,activation=\"sigmoid\"))"
   ]
  },
  {
   "cell_type": "code",
   "execution_count": 11,
   "metadata": {
    "colab": {},
    "colab_type": "code",
    "id": "bJVvqWgrkaQt"
   },
   "outputs": [],
   "source": [
    "cnn.compile(optimizer=\"adam\",loss=\"binary_crossentropy\",metrics=[\"accuracy\"])"
   ]
  },
  {
   "cell_type": "markdown",
   "metadata": {
    "colab_type": "text",
    "id": "rtz6hPYjkuoe"
   },
   "source": [
    "training"
   ]
  },
  {
   "cell_type": "code",
   "execution_count": 12,
   "metadata": {
    "colab": {},
    "colab_type": "code",
    "id": "2_2QFkQUkwXs"
   },
   "outputs": [
    {
     "name": "stdout",
     "output_type": "stream",
     "text": [
      "Train for 250 steps, validate for 63 steps\n",
      "Epoch 1/25\n",
      "250/250 [==============================] - 91s 365ms/step - loss: 0.6598 - accuracy: 0.6009 - val_loss: 0.6411 - val_accuracy: 0.6390\n",
      "Epoch 2/25\n",
      "250/250 [==============================] - 49s 197ms/step - loss: 0.5893 - accuracy: 0.6884 - val_loss: 0.5572 - val_accuracy: 0.7240\n",
      "Epoch 3/25\n",
      "250/250 [==============================] - 49s 194ms/step - loss: 0.5496 - accuracy: 0.7170 - val_loss: 0.5311 - val_accuracy: 0.7445\n",
      "Epoch 4/25\n",
      "250/250 [==============================] - 56s 225ms/step - loss: 0.5199 - accuracy: 0.7414 - val_loss: 0.5059 - val_accuracy: 0.7680\n",
      "Epoch 5/25\n",
      "250/250 [==============================] - 53s 212ms/step - loss: 0.4971 - accuracy: 0.7565 - val_loss: 0.4929 - val_accuracy: 0.7685\n",
      "Epoch 6/25\n",
      "250/250 [==============================] - 52s 208ms/step - loss: 0.4808 - accuracy: 0.7689 - val_loss: 0.4873 - val_accuracy: 0.7690\n",
      "Epoch 7/25\n",
      "250/250 [==============================] - 48s 193ms/step - loss: 0.4616 - accuracy: 0.7806 - val_loss: 0.4700 - val_accuracy: 0.7875\n",
      "Epoch 8/25\n",
      "250/250 [==============================] - 53s 211ms/step - loss: 0.4552 - accuracy: 0.7797 - val_loss: 0.4709 - val_accuracy: 0.7815\n",
      "Epoch 9/25\n",
      "250/250 [==============================] - 57s 229ms/step - loss: 0.4386 - accuracy: 0.7876 - val_loss: 0.4794 - val_accuracy: 0.7810\n",
      "Epoch 10/25\n",
      "250/250 [==============================] - 59s 235ms/step - loss: 0.4291 - accuracy: 0.8037 - val_loss: 0.4800 - val_accuracy: 0.7870\n",
      "Epoch 11/25\n",
      "250/250 [==============================] - 54s 214ms/step - loss: 0.4156 - accuracy: 0.8067 - val_loss: 0.4832 - val_accuracy: 0.7780\n",
      "Epoch 12/25\n",
      "250/250 [==============================] - 51s 204ms/step - loss: 0.3986 - accuracy: 0.8181 - val_loss: 0.4511 - val_accuracy: 0.8070\n",
      "Epoch 13/25\n",
      "250/250 [==============================] - 54s 217ms/step - loss: 0.3900 - accuracy: 0.8214 - val_loss: 0.4644 - val_accuracy: 0.7905\n",
      "Epoch 14/25\n",
      "250/250 [==============================] - 47s 190ms/step - loss: 0.3786 - accuracy: 0.8353 - val_loss: 0.4536 - val_accuracy: 0.8030\n",
      "Epoch 15/25\n",
      "250/250 [==============================] - 48s 191ms/step - loss: 0.3680 - accuracy: 0.8340 - val_loss: 0.4633 - val_accuracy: 0.8045\n",
      "Epoch 16/25\n",
      "250/250 [==============================] - 49s 197ms/step - loss: 0.3684 - accuracy: 0.8365 - val_loss: 0.4521 - val_accuracy: 0.8080\n",
      "Epoch 17/25\n",
      "250/250 [==============================] - 49s 198ms/step - loss: 0.3526 - accuracy: 0.8397 - val_loss: 0.4674 - val_accuracy: 0.7930\n",
      "Epoch 18/25\n",
      "250/250 [==============================] - 49s 196ms/step - loss: 0.3392 - accuracy: 0.8506 - val_loss: 0.4662 - val_accuracy: 0.8060\n",
      "Epoch 19/25\n",
      "250/250 [==============================] - 52s 207ms/step - loss: 0.3285 - accuracy: 0.8535 - val_loss: 0.4497 - val_accuracy: 0.8085\n",
      "Epoch 20/25\n",
      "250/250 [==============================] - 49s 197ms/step - loss: 0.3088 - accuracy: 0.8658 - val_loss: 0.4886 - val_accuracy: 0.8115\n",
      "Epoch 21/25\n",
      "250/250 [==============================] - 49s 195ms/step - loss: 0.3040 - accuracy: 0.8636 - val_loss: 0.5192 - val_accuracy: 0.7920\n",
      "Epoch 22/25\n",
      "250/250 [==============================] - 50s 201ms/step - loss: 0.2875 - accuracy: 0.8730 - val_loss: 0.4659 - val_accuracy: 0.8135\n",
      "Epoch 23/25\n",
      "250/250 [==============================] - 47s 189ms/step - loss: 0.2849 - accuracy: 0.8798 - val_loss: 0.4758 - val_accuracy: 0.8045\n",
      "Epoch 24/25\n",
      "250/250 [==============================] - 48s 190ms/step - loss: 0.2740 - accuracy: 0.8794 - val_loss: 0.4914 - val_accuracy: 0.8055\n",
      "Epoch 25/25\n",
      "250/250 [==============================] - 51s 205ms/step - loss: 0.2592 - accuracy: 0.8901 - val_loss: 0.4918 - val_accuracy: 0.8065\n"
     ]
    },
    {
     "data": {
      "text/plain": [
       "<tensorflow.python.keras.callbacks.History at 0x1b9b4e743c8>"
      ]
     },
     "execution_count": 12,
     "metadata": {},
     "output_type": "execute_result"
    }
   ],
   "source": [
    "cnn.fit(x=train_set,validation_data=test_set,epochs=30)"
   ]
  },
  {
   "cell_type": "markdown",
   "metadata": {
    "colab_type": "text",
    "id": "x914_mbhl1F9"
   },
   "source": [
    "prediction"
   ]
  },
  {
   "cell_type": "code",
   "execution_count": 13,
   "metadata": {
    "colab": {},
    "colab_type": "code",
    "id": "ZtWr_iFVl4D2"
   },
   "outputs": [
    {
     "name": "stdout",
     "output_type": "stream",
     "text": [
      "dog\n"
     ]
    }
   ],
   "source": [
    "import numpy as np\n",
    "from keras.preprocessing import image\n",
    "test_image=image.load_img(\"dataset/single_prediction/cat_or_dog_1.jpg\",target_size=(64,64))\n",
    "test_image=image.img_to_array(test_image)\n",
    "test_image=np.expand_dims(test_image,axis=0)\n",
    "result=cnn.predict(test_image)\n",
    "train_set.class_indices\n",
    "if result[0][0]==1:\n",
    "  print(\"dog\")\n",
    "else:\n",
    "  print(\"cat\")"
   ]
  },
  {
   "cell_type": "code",
   "execution_count": null,
   "metadata": {
    "colab": {},
    "colab_type": "code",
    "id": "vIuIVOjspwzd"
   },
   "outputs": [],
   "source": []
  },
  {
   "cell_type": "code",
   "execution_count": null,
   "metadata": {},
   "outputs": [],
   "source": []
  }
 ],
 "metadata": {
  "colab": {
   "collapsed_sections": [],
   "name": "Untitled1.ipynb",
   "provenance": [],
   "toc_visible": true
  },
  "kernelspec": {
   "display_name": "Python 3",
   "language": "python",
   "name": "python3"
  },
  "language_info": {
   "codemirror_mode": {
    "name": "ipython",
    "version": 3
   },
   "file_extension": ".py",
   "mimetype": "text/x-python",
   "name": "python",
   "nbconvert_exporter": "python",
   "pygments_lexer": "ipython3",
   "version": "3.7.6"
  }
 },
 "nbformat": 4,
 "nbformat_minor": 1
}
